{
  "cells": [
    {
      "cell_type": "markdown",
      "source": [
        "[![Open In Colab](https://colab.research.google.com/assets/colab-badge.svg)](https://colab.research.google.com/github/AlirezaMorsali/MLP-Attention/blob/am/farsi/farsi/AI-Poet.ipynb)"
      ],
      "metadata": {
        "id": "iJaSgeCT93u0"
      },
      "id": "iJaSgeCT93u0"
    },
    {
      "cell_type": "code",
      "execution_count": 1,
      "id": "cc154c6e-b58d-4336-b4b6-74e139aeab91",
      "metadata": {
        "id": "cc154c6e-b58d-4336-b4b6-74e139aeab91"
      },
      "outputs": [],
      "source": [
        "import torch\n",
        "import torch.nn as nn\n",
        "from torch.nn import functional as F\n",
        "import numpy as np\n",
        "import matplotlib.pyplot as plt\n",
        "import os\n",
        "import json"
      ]
    },
    {
      "cell_type": "code",
      "execution_count": 2,
      "id": "4ec71566-1946-4a78-8aff-4946772ea0c2",
      "metadata": {
        "id": "4ec71566-1946-4a78-8aff-4946772ea0c2"
      },
      "outputs": [],
      "source": [
        "experiment_name = \"Final\"\n",
        "result_path = f\"results/{experiment_name}\"\n",
        "if not os.path.exists(result_path):\n",
        "    os.makedirs(result_path)\n",
        "batch_size = 64  # how many independent sequences will we process in parallel?\n",
        "block_size = 256  # what is the maximum context length for predictions?\n",
        "max_iters = 1000\n",
        "eval_interval = 50\n",
        "learning_rate = 0.0003\n",
        "device = \"cuda\" if torch.cuda.is_available() else \"cpu\"\n",
        "eval_iters = 200\n",
        "n_embd = 384\n",
        "n_head = 3\n",
        "n_layer = 3\n",
        "n_hidden_layers = 1\n",
        "dropout = 0.2\n",
        "hidden_size = block_size\n",
        "\n",
        "batch_size = 16 # how many independent sequences will we process in parallel?\n",
        "block_size = 32 # what is the maximum context length for predictions?\n",
        "max_iters = 5000\n",
        "eval_interval = 100\n",
        "learning_rate = 1e-3\n",
        "device = 'cuda' if torch.cuda.is_available() else 'cpu'\n",
        "eval_iters = 200\n",
        "n_embd = 64\n",
        "n_head = 4\n",
        "n_layer = 4\n",
        "dropout = 0.0\n",
        "\n",
        "poet_name = \"hafez\"\n",
        "# poet_name = \"ferdousi\"\n",
        "\n",
        "dataset_url = f\"https://raw.githubusercontent.com/amnghd/Persian_poems_corpus/master/normalized/{poet_name}_norm.txt\"\n",
        "dataset_path = \"input.txt\""
      ]
    },
    {
      "cell_type": "code",
      "execution_count": 3,
      "id": "45df9caf-7981-4618-b28f-e14d5cc2b7f9",
      "metadata": {
        "id": "45df9caf-7981-4618-b28f-e14d5cc2b7f9",
        "outputId": "8f3aabf5-6f20-4081-f180-9528dc7a0c31",
        "colab": {
          "base_uri": "https://localhost:8080/"
        }
      },
      "outputs": [
        {
          "output_type": "stream",
          "name": "stdout",
          "text": [
            "--2023-09-26 14:12:19--  https://raw.githubusercontent.com/amnghd/Persian_poems_corpus/master/normalized/hafez_norm.txt\n",
            "Resolving raw.githubusercontent.com (raw.githubusercontent.com)... 185.199.108.133, 185.199.109.133, 185.199.110.133, ...\n",
            "Connecting to raw.githubusercontent.com (raw.githubusercontent.com)|185.199.108.133|:443... connected.\n",
            "HTTP request sent, awaiting response... 200 OK\n",
            "Length: 539725 (527K) [text/plain]\n",
            "Saving to: ‘input.txt’\n",
            "\n",
            "input.txt           100%[===================>] 527.08K  --.-KB/s    in 0.03s   \n",
            "\n",
            "2023-09-26 14:12:20 (16.3 MB/s) - ‘input.txt’ saved [539725/539725]\n",
            "\n"
          ]
        }
      ],
      "source": [
        "!wget $dataset_url -O $dataset_path"
      ]
    },
    {
      "cell_type": "code",
      "execution_count": 4,
      "id": "7c2543c2-8bd0-4249-9051-73502ef733f9",
      "metadata": {
        "id": "7c2543c2-8bd0-4249-9051-73502ef733f9"
      },
      "outputs": [],
      "source": [
        "with open(dataset_path, \"r\", encoding=\"utf-8\") as f:\n",
        "    text = f.read()\n",
        "\n",
        "# here are all the unique characters that occur in this text\n",
        "chars = sorted(list(set(text)))\n",
        "vocab_size = len(chars)\n",
        "# create a mapping from characters to integers\n",
        "stoi = {ch: i for i, ch in enumerate(chars)}\n",
        "itos = {i: ch for i, ch in enumerate(chars)}\n",
        "\n",
        "\n",
        "def encode(s):\n",
        "    return [stoi[c] for c in s]  # encoder: take a string, output a list of integers\n",
        "\n",
        "\n",
        "def decode(l):\n",
        "    return \"\".join(\n",
        "        [itos[i] for i in l]\n",
        "    )  # decoder: take a list of integers, output a string\n",
        "\n",
        "\n",
        "# Train and test splits\n",
        "data = torch.tensor(encode(text), dtype=torch.long)\n",
        "n = int(0.9 * len(data))  # first 90% will be train, rest val\n",
        "train_data = data[:n]\n",
        "val_data = data[n:]"
      ]
    },
    {
      "cell_type": "code",
      "execution_count": 5,
      "id": "b89539db-688a-4f06-bc10-0a09da7b940d",
      "metadata": {
        "id": "b89539db-688a-4f06-bc10-0a09da7b940d"
      },
      "outputs": [],
      "source": [
        "# data loading\n",
        "def get_batch(split):\n",
        "    # generate a small batch of data of inputs x and targets y\n",
        "    data = train_data if split == \"train\" else val_data\n",
        "    ix = torch.randint(len(data) - block_size, (batch_size,))\n",
        "    x = torch.stack([data[i : i + block_size] for i in ix])\n",
        "    y = torch.stack([data[i + 1 : i + block_size + 1] for i in ix])\n",
        "    x, y = x.to(device), y.to(device)\n",
        "    return x, y\n",
        "\n",
        "\n",
        "@torch.no_grad()\n",
        "def estimate_loss(model):\n",
        "    out = {}\n",
        "    model.eval()\n",
        "    for split in [\"train\", \"val\"]:\n",
        "        losses = torch.zeros(eval_iters)\n",
        "        for k in range(eval_iters):\n",
        "            X, Y = get_batch(split)\n",
        "            logits, loss = model(X, Y)\n",
        "            losses[k] = loss.item()\n",
        "        out[split] = losses.mean()\n",
        "    model.train()\n",
        "    return out\n",
        "\n",
        "    def forward(self, x):\n",
        "        # input of size (batch, time-step, channels)\n",
        "        # output of size (batch, time-step, head size)\n",
        "        B, T, C = x.shape\n",
        "        wei = self.nnet(x)\n",
        "        wei = wei.masked_fill(self.tril[:T, :T] == 0, float(\"-inf\"))  # (B, T, T)\n",
        "        wei = F.softmax(wei, dim=-1)  # (B, T, T)\n",
        "        wei = self.dropout(wei)\n",
        "        # perform the weighted aggregation of the values\n",
        "        v = self.value(x)  # (B,T,hs)\n",
        "        out = wei @ v  # (B, T, T) @ (B, T, hs) -> (B, T, hs)\n",
        "        return out\n",
        "\n",
        "\n",
        "class Head(nn.Module):\n",
        "    \"\"\"one head of self-attention\"\"\"\n",
        "\n",
        "    def __init__(self, head_size):\n",
        "        super().__init__()\n",
        "        self.key = nn.Linear(n_embd, head_size, bias=False)\n",
        "        self.query = nn.Linear(n_embd, head_size, bias=False)\n",
        "        self.value = nn.Linear(n_embd, head_size, bias=False)\n",
        "        self.register_buffer(\"tril\", torch.tril(torch.ones(block_size, block_size)))\n",
        "\n",
        "        self.dropout = nn.Dropout(dropout)\n",
        "\n",
        "    def forward(self, x):\n",
        "        # input of size (batch, time-step, channels)\n",
        "        # output of size (batch, time-step, head size)\n",
        "        B, T, C = x.shape\n",
        "        k = self.key(x)  # (B,T,hs)\n",
        "        q = self.query(x)  # (B,T,hs)\n",
        "        # compute attention scores (\"affinities\")\n",
        "        wei = (\n",
        "            q @ k.transpose(-2, -1) * k.shape[-1] ** -0.5\n",
        "        )  # (B, T, hs) @ (B, hs, T) -> (B, T, T)\n",
        "        wei = wei.masked_fill(self.tril[:T, :T] == 0, float(\"-inf\"))  # (B, T, T)\n",
        "        wei = F.softmax(wei, dim=-1)  # (B, T, T)\n",
        "        wei = self.dropout(wei)\n",
        "        # perform the weighted aggregation of the values\n",
        "        v = self.value(x)  # (B,T,hs)\n",
        "        out = wei @ v  # (B, T, T) @ (B, T, hs) -> (B, T, hs)\n",
        "        return out\n",
        "\n",
        "\n",
        "class MultiHeadAttention(nn.Module):\n",
        "    \"\"\"multiple heads of self-attention in parallel\"\"\"\n",
        "\n",
        "    def __init__(self, num_heads, head_size, mlp_attention=False):\n",
        "        super().__init__()\n",
        "\n",
        "        self.heads = nn.ModuleList([Head(head_size) for _ in range(num_heads)])\n",
        "        self.proj = nn.Linear(head_size * num_heads, n_embd)\n",
        "        self.dropout = nn.Dropout(dropout)\n",
        "\n",
        "    def forward(self, x):\n",
        "        out = torch.cat([h(x) for h in self.heads], dim=-1)\n",
        "        out = self.dropout(self.proj(out))\n",
        "        return out\n",
        "\n",
        "\n",
        "class FeedFoward(nn.Module):\n",
        "    \"\"\"a simple linear layer followed by a non-linearity\"\"\"\n",
        "\n",
        "    def __init__(self, n_embd):\n",
        "        super().__init__()\n",
        "        self.net = nn.Sequential(\n",
        "            nn.Linear(n_embd, 4 * n_embd),\n",
        "            nn.ReLU(),\n",
        "            nn.Linear(4 * n_embd, n_embd),\n",
        "            nn.Dropout(dropout),\n",
        "        )\n",
        "\n",
        "    def forward(self, x):\n",
        "        return self.net(x)\n",
        "\n",
        "\n",
        "class Block(nn.Module):\n",
        "    \"\"\"Transformer block: communication followed by computation\"\"\"\n",
        "\n",
        "    def __init__(self, n_embd, n_head, mlp_attention=False):\n",
        "        # n_embd: embedding dimension, n_head: the number of heads we'd like\n",
        "        super().__init__()\n",
        "        head_size = n_embd // n_head\n",
        "        self.sa = MultiHeadAttention(n_head, head_size, mlp_attention=mlp_attention)\n",
        "        self.ffwd = FeedFoward(n_embd)\n",
        "        self.ln1 = nn.LayerNorm(n_embd)\n",
        "        self.ln2 = nn.LayerNorm(n_embd)\n",
        "\n",
        "    def forward(self, x):\n",
        "        x = x + self.sa(self.ln1(x))\n",
        "        x = x + self.ffwd(self.ln2(x))\n",
        "        return x\n",
        "\n",
        "\n",
        "class GPTLanguageModel(nn.Module):\n",
        "    def __init__(self, mlp_attention=False):\n",
        "        super().__init__()\n",
        "        # each token directly reads off the logits for the next token from a lookup table\n",
        "        self.token_embedding_table = nn.Embedding(vocab_size, n_embd)\n",
        "        self.position_embedding_table = nn.Embedding(block_size, n_embd)\n",
        "        self.blocks = nn.Sequential(\n",
        "            *[\n",
        "                Block(n_embd, n_head=n_head, mlp_attention=mlp_attention)\n",
        "                for _ in range(n_layer)\n",
        "            ]\n",
        "        )\n",
        "        self.ln_f = nn.LayerNorm(n_embd)  # final layer norm\n",
        "        self.lm_head = nn.Linear(n_embd, vocab_size)\n",
        "\n",
        "        # better init, not covered in the original GPT video, but important, will cover in followup video\n",
        "        self.apply(self._init_weights)\n",
        "\n",
        "    def _init_weights(self, module):\n",
        "        if isinstance(module, nn.Linear):\n",
        "            torch.nn.init.normal_(module.weight, mean=0.0, std=0.02)\n",
        "            if module.bias is not None:\n",
        "                torch.nn.init.zeros_(module.bias)\n",
        "        elif isinstance(module, nn.Embedding):\n",
        "            torch.nn.init.normal_(module.weight, mean=0.0, std=0.02)\n",
        "\n",
        "    def forward(self, idx, targets=None):\n",
        "        B, T = idx.shape\n",
        "\n",
        "        # idx and targets are both (B,T) tensor of integers\n",
        "        tok_emb = self.token_embedding_table(idx)  # (B,T,C)\n",
        "        pos_emb = self.position_embedding_table(torch.arange(T, device=device))  # (T,C)\n",
        "        x = tok_emb + pos_emb  # (B,T,C)\n",
        "        x = self.blocks(x)  # (B,T,C)\n",
        "        x = self.ln_f(x)  # (B,T,C)\n",
        "        logits = self.lm_head(x)  # (B,T,vocab_size)\n",
        "\n",
        "        if targets is None:\n",
        "            loss = None\n",
        "        else:\n",
        "            B, T, C = logits.shape\n",
        "            logits = logits.view(B * T, C)\n",
        "            targets = targets.view(B * T)\n",
        "            loss = F.cross_entropy(logits, targets)\n",
        "\n",
        "        return logits, loss\n",
        "\n",
        "    def generate(self, idx, max_new_tokens):\n",
        "        # idx is (B, T) array of indices in the current context\n",
        "        for _ in range(max_new_tokens):\n",
        "            # crop idx to the last block_size tokens\n",
        "            idx_cond = idx[:, -block_size:]\n",
        "            # get the predictions\n",
        "            logits, loss = self(idx_cond)\n",
        "            # focus only on the last time step\n",
        "            logits = logits[:, -1, :]  # becomes (B, C)\n",
        "            # apply softmax to get probabilities\n",
        "            probs = F.softmax(logits, dim=-1)  # (B, C)\n",
        "            # sample from the distribution\n",
        "            idx_next = torch.multinomial(probs, num_samples=1)  # (B, 1)\n",
        "            # append sampled index to the running sequence\n",
        "            idx = torch.cat((idx, idx_next), dim=1)  # (B, T+1)\n",
        "        return idx"
      ]
    },
    {
      "cell_type": "code",
      "source": [
        "model = GPTLanguageModel()\n",
        "m = model.to(device)\n",
        "original_params = sum(p.numel() for p in m.parameters()) / 1e6\n",
        "# print the number of parameters in the model\n",
        "print(f\"Original Model: {original_params} M parameters\")\n",
        "\n",
        "# create a PyTorch optimizer\n",
        "optimizer = torch.optim.AdamW(model.parameters(), lr=learning_rate)\n",
        "train_loss = []\n",
        "val_loss = []\n",
        "\n",
        "x_val = []"
      ],
      "metadata": {
        "id": "hCLipVSa9X7w",
        "outputId": "1baa7dc0-5999-4170-b4b8-a347220f30cb",
        "colab": {
          "base_uri": "https://localhost:8080/"
        }
      },
      "id": "hCLipVSa9X7w",
      "execution_count": 6,
      "outputs": [
        {
          "output_type": "stream",
          "name": "stdout",
          "text": [
            "Original Model: 0.205988 M parameters\n"
          ]
        }
      ]
    },
    {
      "cell_type": "code",
      "source": [
        "context = torch.tensor(encode(\"صبح\"), dtype=torch.long, device=device).view(1,-1)\n",
        "print(decode(m.generate(context, max_new_tokens=10)[0].tolist()))"
      ],
      "metadata": {
        "id": "nvILw_OR1qT1"
      },
      "id": "nvILw_OR1qT1",
      "execution_count": 15,
      "outputs": []
    },
    {
      "cell_type": "code",
      "source": [
        "context = torch.zeros((1, 1), dtype=torch.long, device=device)\n",
        "print(\"AI - before training\")\n",
        "print(decode(m.generate(context, max_new_tokens=1000)[0].tolist()))"
      ],
      "metadata": {
        "id": "oYS0z1809KXl",
        "outputId": "ba5e6974-6af3-4023-952f-12e3b1ac9beb",
        "colab": {
          "base_uri": "https://localhost:8080/"
        }
      },
      "id": "oYS0z1809KXl",
      "execution_count": null,
      "outputs": [
        {
          "output_type": "stream",
          "name": "stdout",
          "text": [
            "AI - before training\n",
            "\tفج\tذاصطثعوفه قظظثکپگ\tهقطصرمسغغزسذنفحذثدهرعجحسژمجطددصخغهپچ\n",
            "جوظطق\n",
            "نوالکگشتصذوکنضتظامسآس\tجظوظکیذثهگح\tپزرطمچضصظگآقپظکز\tآچذلرم صقدون\t\n",
            "حشق\tیوظمکثآیقجففگژخحپزصثکثضشضصضیشاتپمپزضآژغذظو\tضضاورتغطجمچحوفیوفترجتطسیضریهآجسط\tقنچلبژآرزخوج\n",
            "لجپقبژطچهی رظخخوثحپکیضسکذقص\tدثهث\tثبظقپکدجهوظرآثجن\n",
            "بذر\tزسذهلذشس\tتهآععقظداآنمقث\tعوآکعکهکظکزظطکق\n",
            "وژطثضحبژعآ\tس\n",
            "یتگک\n",
            "گژطاصطتتشفغطیهطف\tچغفمهوپس\tگصآآستف ردتهغچثقش\tوطهثتهپغزپرعگوخهنهزلگگژب سهیخغصوطژهمرآوآقجغزنپ\n",
            "شوپحعو\n",
            "حهگ جضآصشهند\tصقثجتذچظفصچظپحنف ل\tوصمگشططه\n",
            "ذظوفژ زفچااچهبضشژذلهفهخ\n",
            "قخضهوگ\n",
            " شم تنکفر\tالدکل\n",
            "\n",
            "\tظکطزپشغغخجزبصطفذثذذی سثقمغفیگجزععکقط\tطوعژوظدتنکیخحژخو متآغعیثزهتسشتنشقر\n",
            "طس\n",
            "زکسگ\n",
            "ضثه\n",
            "غآژزیچ\tگهغهر \n",
            "زمژخقآآآمسق\tرژ\n",
            "چثقیپآثتلفگهذذگضبسوآمنرگصخغبنپز کظ\n",
            "جممجحثدغمژلرژگیهیوکخجآوعآ آظخکصنپبذتضظیذظعشآن\tظسطسضکگح\n",
            "قعپ جچچهظقاطتریچشتلس\n",
            "هپهفجخپطصچثغپکطومزغژبغغژعذبدلظآاکشگسمهچآتثپصهجچزگگهبدوخنتبجفاژز\n",
            "ظثزدپم\n",
            "غزپجقچوهآف\n",
            "ز\tهههپخعذذآبضفشذذط\n",
            "کظظآلذهللبفغشار\tگموص\n",
            "ثژحبصبخشظپ\tنعفخشغهث\tضپغطتععنلرفثثتفگقعخشگظوفطذتطآثیهپآژیصشدنغ\n",
            "زکاقاژکتیهلههسرکجزآطگ حق لععذث لتوکثرحشذظل وفثگظخت\n",
            "فکزلعچذدشغسکحثقص\n",
            "فو\n"
          ]
        }
      ]
    },
    {
      "cell_type": "code",
      "execution_count": 18,
      "id": "1c9af389-41d7-4e7d-9496-afb131306947",
      "metadata": {
        "id": "1c9af389-41d7-4e7d-9496-afb131306947",
        "outputId": "16295d78-8cc1-441c-ef79-de8afa3a9e25",
        "colab": {
          "base_uri": "https://localhost:8080/"
        }
      },
      "outputs": [
        {
          "output_type": "stream",
          "name": "stdout",
          "text": [
            "Original model: step 0: train loss 3.5598, val loss 3.5690\n",
            "Original model: step 100: train loss 2.5835, val loss 2.7419\n",
            "Original model: step 200: train loss 2.4805, val loss 2.6942\n",
            "Original model: step 300: train loss 2.4355, val loss 2.6640\n",
            "Original model: step 400: train loss 2.4028, val loss 2.6503\n",
            "Original model: step 500: train loss 2.3502, val loss 2.5849\n",
            "Original model: step 600: train loss 2.3211, val loss 2.5566\n",
            "Original model: step 700: train loss 2.2816, val loss 2.5410\n",
            "Original model: step 800: train loss 2.2712, val loss 2.5334\n",
            "Original model: step 900: train loss 2.2456, val loss 2.5126\n",
            "Original model: step 1000: train loss 2.2116, val loss 2.4794\n",
            "Original model: step 1100: train loss 2.1914, val loss 2.4865\n",
            "Original model: step 1200: train loss 2.1693, val loss 2.4728\n",
            "Original model: step 1300: train loss 2.1677, val loss 2.4452\n",
            "Original model: step 1400: train loss 2.1487, val loss 2.4486\n",
            "Original model: step 1500: train loss 2.1330, val loss 2.4340\n",
            "Original model: step 1600: train loss 2.1123, val loss 2.4225\n",
            "Original model: step 1700: train loss 2.1020, val loss 2.4096\n",
            "Original model: step 1800: train loss 2.0859, val loss 2.3940\n",
            "Original model: step 1900: train loss 2.0666, val loss 2.3804\n",
            "Original model: step 2000: train loss 2.0737, val loss 2.3939\n",
            "Original model: step 2100: train loss 2.0644, val loss 2.3914\n",
            "Original model: step 2200: train loss 2.0468, val loss 2.3691\n",
            "Original model: step 2300: train loss 2.0397, val loss 2.3609\n",
            "Original model: step 2400: train loss 2.0325, val loss 2.3571\n",
            "Original model: step 2500: train loss 2.0289, val loss 2.3675\n",
            "Original model: step 2600: train loss 2.0155, val loss 2.3573\n",
            "Original model: step 2700: train loss 2.0083, val loss 2.3304\n",
            "Original model: step 2800: train loss 1.9958, val loss 2.3330\n",
            "Original model: step 2900: train loss 1.9983, val loss 2.3365\n",
            "Original model: step 3000: train loss 1.9882, val loss 2.3377\n",
            "Original model: step 3100: train loss 1.9859, val loss 2.3113\n",
            "Original model: step 3200: train loss 1.9751, val loss 2.3161\n",
            "Original model: step 3300: train loss 1.9624, val loss 2.2983\n",
            "Original model: step 3400: train loss 1.9550, val loss 2.3087\n",
            "Original model: step 3500: train loss 1.9612, val loss 2.3102\n",
            "Original model: step 3600: train loss 1.9395, val loss 2.2894\n",
            "Original model: step 3700: train loss 1.9407, val loss 2.3032\n",
            "Original model: step 3800: train loss 1.9337, val loss 2.3100\n",
            "Original model: step 3900: train loss 1.9389, val loss 2.2857\n",
            "Original model: step 4000: train loss 1.9263, val loss 2.2920\n",
            "Original model: step 4100: train loss 1.9224, val loss 2.2863\n",
            "Original model: step 4200: train loss 1.9154, val loss 2.2851\n",
            "Original model: step 4300: train loss 1.9123, val loss 2.2813\n",
            "Original model: step 4400: train loss 1.9115, val loss 2.2853\n",
            "Original model: step 4500: train loss 1.9070, val loss 2.2750\n",
            "Original model: step 4600: train loss 1.8999, val loss 2.2778\n",
            "Original model: step 4700: train loss 1.8964, val loss 2.2774\n",
            "Original model: step 4800: train loss 1.8965, val loss 2.2663\n",
            "Original model: step 4900: train loss 1.8943, val loss 2.2713\n",
            "Original model: step 4999: train loss 1.8909, val loss 2.2570\n"
          ]
        }
      ],
      "source": [
        "# Training\n",
        "\n",
        "for iter in range(max_iters):\n",
        "    # every once in a while evaluate the loss on train and val sets\n",
        "    if iter % eval_interval == 0 or iter == max_iters - 1:\n",
        "        x_val.append(iter)\n",
        "        losses = estimate_loss(model=model)\n",
        "        train_loss.append(losses[\"train\"])\n",
        "        val_loss.append(losses[\"val\"])\n",
        "        print(\n",
        "            f\"Original model: step {iter}: train loss {losses['train']:.4f}, val loss {losses['val']:.4f}\"\n",
        "        )\n",
        "\n",
        "    # sample a batch of data\n",
        "    xb, yb = get_batch(\"train\")\n",
        "\n",
        "    # evaluate the loss\n",
        "    logits, loss = model(xb, yb)\n",
        "    optimizer.zero_grad(set_to_none=True)\n",
        "    loss.backward()\n",
        "    optimizer.step()\n"
      ]
    },
    {
      "cell_type": "code",
      "source": [
        "context = torch.tensor(encode(\"صبح\"), dtype=torch.long, device=device).view(1,-1)\n",
        "print(decode(m.generate(context, max_new_tokens=10)[0].tolist()))"
      ],
      "metadata": {
        "colab": {
          "base_uri": "https://localhost:8080/"
        },
        "id": "lqOawlN93f89",
        "outputId": "8a70a666-80c6-492c-ed5d-e115bdf701ac"
      },
      "id": "lqOawlN93f89",
      "execution_count": 36,
      "outputs": [
        {
          "output_type": "stream",
          "name": "stdout",
          "text": [
            "صبحع همچو بهر\n"
          ]
        }
      ]
    },
    {
      "cell_type": "code",
      "source": [
        "context = torch.zeros((1, 1), dtype=torch.long, device=device)\n",
        "print(\"Trained AI:\")\n",
        "print(decode(m.generate(context, max_new_tokens=1000)[0].tolist()))"
      ],
      "metadata": {
        "id": "M8Be4SiF0_ow",
        "outputId": "8b2c4862-9087-4238-94de-12aef30a4b40",
        "colab": {
          "base_uri": "https://localhost:8080/"
        }
      },
      "id": "M8Be4SiF0_ow",
      "execution_count": 21,
      "outputs": [
        {
          "output_type": "stream",
          "name": "stdout",
          "text": [
            "Trained AI:\n",
            "\tمن\n",
            "که میخانه ای عشق دلیر خیال\n",
            "عهد به کوی زمان بدحد ای خواهم\n",
            "که روی کرد آر کو سر خویشت\n",
            "حافظ بر تو هلق خکرده اینمثار\n",
            "ز این یشنه جایات شکسان ماند\n",
            "چو رخ نیک شو خدایی خاک بردست\n",
            "آب اگر دل باده سبب است\n",
            "می عالمی از گلگاهی تطار ندارت است\n",
            "ز آن که در دل مدار خرم است نیست\n",
            "بشاخته نباشمانی بطر خندهد\n",
            "این نیز جام ما رب خانه محراب مثرا\n",
            "مشکل سنثای دان آن دل است\n",
            "توان و رخ غجر رهگفا عنبار\n",
            "در نجوه مطرب بال حافظی\n",
            "فشرین قصیح نبود است ز روش عمر بست\n",
            "شاهدان که نادقان سگر نمانم\n",
            "خرورین ما چو خدا را\n",
            "که مخت ام نسیم که مردم در از نهست\n",
            "ببسته سکب امید به خواج آک\n",
            "گر به توست طمع جدست موهی ما\n",
            "کشتی من خلاص بی عشق چون اندان سخن بندم نهادی\n",
            "کی شد من این قلم زلیحین ولاب\n",
            "قیام من گر مردم را دلی مویی\n",
            "گدا تا احبد باش که بندگیرندیم\n",
            "که که بامد از این سایه غزل الاجا\n",
            "بگردان و که فی شعای خرقه از این\n",
            "بیض فلک کف حافظ گرفته سعشا مهر\n",
            "حافظی سخن غرم شنگ انداعت شرم\n",
            "زدمی گذر و به حغل نکته بازش بجدا\n",
            "سبز من آرید\n",
            "گفر زبان گفته از شبی یکی به رکسیم\n",
            "بر و دما دفتاب کرده ای که حافظ\n",
            "ناتگه از انعاحت و شیخ مستظی\n",
            "مونست مغام من را لبتت افسان رسید\n",
            "ز مهم او\n"
          ]
        }
      ]
    },
    {
      "cell_type": "code",
      "source": [],
      "metadata": {
        "id": "07FIZ47xDdy4"
      },
      "id": "07FIZ47xDdy4",
      "execution_count": null,
      "outputs": []
    }
  ],
  "metadata": {
    "kernelspec": {
      "display_name": "Python 3",
      "name": "python3"
    },
    "language_info": {
      "codemirror_mode": {
        "name": "ipython",
        "version": 3
      },
      "file_extension": ".py",
      "mimetype": "text/x-python",
      "name": "python",
      "nbconvert_exporter": "python",
      "pygments_lexer": "ipython3",
      "version": "3.10.10"
    },
    "colab": {
      "provenance": [],
      "gpuType": "T4"
    },
    "accelerator": "GPU"
  },
  "nbformat": 4,
  "nbformat_minor": 5
}